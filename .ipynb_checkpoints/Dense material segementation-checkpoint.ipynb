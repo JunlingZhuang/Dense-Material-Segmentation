{
 "cells": [
  {
   "cell_type": "code",
   "execution_count": 4,
   "id": "cc539d7f",
   "metadata": {},
   "outputs": [],
   "source": [
    "import argparse\n",
    "import json\n",
    "import cv2\n",
    "import os\n",
    "import numpy as np\n",
    "import torch\n",
    "import torchvision.transforms as TTR\n",
    "from torch.utils.data import DataLoader, Dataset"
   ]
  },
  {
   "cell_type": "code",
   "execution_count": 5,
   "id": "8b0a8957",
   "metadata": {},
   "outputs": [],
   "source": [
    "dms46 = [\n",
    "    1, 2, 3, 4, 5, 6, 7, 8, 9, 10, 11, 12, 13, 15, 16, 17, 18, 19, 20, 21, 23,\n",
    "    24, 26, 27, 29, 30, 32, 33, 34, 35, 36, 37, 38, 39, 41, 43, 44, 46, 47, 48, 49,\n",
    "    50, 51, 52, 53, 56,\n",
    "]\n",
    "t = json.load(open(os.path.expanduser('./taxonomy.json'), 'rb'))\n",
    "srgb_colormap = [\n",
    "    t['srgb_colormap'][i] for i in range(len(t['srgb_colormap'])) if i in dms46\n",
    "]\n",
    "srgb_colormap.append([0, 0, 0])  # 无法识别的材料用黑色表示\n",
    "srgb_colormap = np.array(srgb_colormap, dtype=np.uint8)"
   ]
  },
  {
   "cell_type": "code",
   "execution_count": 8,
   "id": "1364da18",
   "metadata": {},
   "outputs": [],
   "source": [
    "def apply_color(label_mask):\n",
    "    label_mask[label_mask == 255] = len(srgb_colormap) - 1\n",
    "    vis = np.take(srgb_colormap, label_mask, axis=0)\n",
    "    return vis[..., ::-1]\n",
    "\n",
    "\n",
    "def predict_image(model, image_path):\n",
    "    img = cv2.imread(image_path, cv2.IMREAD_COLOR)\n",
    "    img = cv2.cvtColor(img, cv2.COLOR_BGR2RGB)\n",
    "    image = np.copy(img)\n",
    "\n",
    "    image = torch.from_numpy(image.transpose((2, 0, 1))).float()\n",
    "    image = TTR.Normalize([0.485 * 255, 0.456 * 255, 0.406 * 255], [0.229 * 255, 0.224 * 255, 0.225 * 255])(image)\n",
    "    image = image.unsqueeze(0)\n",
    "\n",
    "    if torch.cuda.is_available():\n",
    "        image = image.cuda()\n",
    "\n",
    "    with torch.no_grad():\n",
    "        prediction = model(image)[0].data.cpu()[0].numpy()\n",
    "\n",
    "    return prediction\n",
    "\n",
    "\n",
    "def main():\n",
    "    model_path = \"./DMS46_v1.pt\"  # 更改为实际预训练模型文件路径\n",
    "    image_path = \"./input_image.jpg\"  # 更改为实际输入图片文件路径\n",
    "    output_image_path = \"./output_image.png\"  # 输出彩色图片的路径\n",
    "    output_csv_path = \"./output_results.csv\"  # 输出CSV结果文件的路径\n"
   ]
  },
  {
   "cell_type": "code",
   "execution_count": 9,
   "id": "397fb542",
   "metadata": {},
   "outputs": [
    {
     "ename": "NameError",
     "evalue": "name 'model_path' is not defined",
     "output_type": "error",
     "traceback": [
      "\u001b[0;31m---------------------------------------------------------------------------\u001b[0m",
      "\u001b[0;31mNameError\u001b[0m                                 Traceback (most recent call last)",
      "\u001b[0;32m/var/folders/c1/53w1t4lx07x61mckxl8cl4nh0000gn/T/ipykernel_78952/2899689383.py\u001b[0m in \u001b[0;36m<module>\u001b[0;34m\u001b[0m\n\u001b[0;32m----> 1\u001b[0;31m \u001b[0mmodel\u001b[0m \u001b[0;34m=\u001b[0m \u001b[0mtorch\u001b[0m\u001b[0;34m.\u001b[0m\u001b[0mjit\u001b[0m\u001b[0;34m.\u001b[0m\u001b[0mload\u001b[0m\u001b[0;34m(\u001b[0m\u001b[0mmodel_path\u001b[0m\u001b[0;34m)\u001b[0m\u001b[0;34m\u001b[0m\u001b[0;34m\u001b[0m\u001b[0m\n\u001b[0m\u001b[1;32m      2\u001b[0m \u001b[0;32mif\u001b[0m \u001b[0mtorch\u001b[0m\u001b[0;34m.\u001b[0m\u001b[0mcuda\u001b[0m\u001b[0;34m.\u001b[0m\u001b[0mis_available\u001b[0m\u001b[0;34m(\u001b[0m\u001b[0;34m)\u001b[0m\u001b[0;34m:\u001b[0m\u001b[0;34m\u001b[0m\u001b[0;34m\u001b[0m\u001b[0m\n\u001b[1;32m      3\u001b[0m     \u001b[0mmodel\u001b[0m \u001b[0;34m=\u001b[0m \u001b[0mmodel\u001b[0m\u001b[0;34m.\u001b[0m\u001b[0mcuda\u001b[0m\u001b[0;34m(\u001b[0m\u001b[0;34m)\u001b[0m\u001b[0;34m\u001b[0m\u001b[0;34m\u001b[0m\u001b[0m\n\u001b[1;32m      4\u001b[0m \u001b[0;34m\u001b[0m\u001b[0m\n\u001b[1;32m      5\u001b[0m \u001b[0mprediction\u001b[0m \u001b[0;34m=\u001b[0m \u001b[0mpredict_image\u001b[0m\u001b[0;34m(\u001b[0m\u001b[0mmodel\u001b[0m\u001b[0;34m,\u001b[0m \u001b[0mimage_path\u001b[0m\u001b[0;34m)\u001b[0m\u001b[0;34m\u001b[0m\u001b[0;34m\u001b[0m\u001b[0m\n",
      "\u001b[0;31mNameError\u001b[0m: name 'model_path' is not defined"
     ]
    }
   ],
   "source": [
    "\n",
    "    model = torch.jit.load(model_path)\n",
    "    if torch.cuda.is_available():\n",
    "        model = model.cuda()\n",
    "\n",
    "    prediction = predict_image(model, image_path)\n",
    "    predicted_colored = apply_color(prediction)\n",
    "\n",
    "    cv2.imwrite(output_image_path, predicted_colored[..., ::-1])\n"
   ]
  },
  {
   "cell_type": "code",
   "execution_count": 15,
   "id": "90700d05",
   "metadata": {},
   "outputs": [
    {
     "data": {
      "text/plain": [
       "array([[188, 188, 137],\n",
       "       [  0, 188,   0],\n",
       "       [188, 188,   0],\n",
       "       [  0,   0, 188],\n",
       "       [188,   0, 188],\n",
       "       [  0, 188, 188],\n",
       "       [241, 241, 241],\n",
       "       [  0, 137, 137],\n",
       "       [225,   0,   0],\n",
       "       [137, 188,   0],\n",
       "       [225, 188,   0],\n",
       "       [137,   0, 188],\n",
       "       [137, 188, 188],\n",
       "       [225, 188, 188],\n",
       "       [  0, 137,   0],\n",
       "       [188, 137,   0],\n",
       "       [137, 225, 188],\n",
       "       [188, 137, 188],\n",
       "       [  0, 137, 188],\n",
       "       [188, 225,   0],\n",
       "       [188, 225, 188],\n",
       "       [137, 137,   0],\n",
       "       [137, 225,   0],\n",
       "       [225, 225,   0],\n",
       "       [225, 137, 188],\n",
       "       [  0, 225,   0],\n",
       "       [  0,   0, 137],\n",
       "       [188,   0,   0],\n",
       "       [  0, 188, 137],\n",
       "       [188,   0, 137],\n",
       "       [  0,   0, 225],\n",
       "       [225, 188, 137],\n",
       "       [  0, 188, 225],\n",
       "       [188, 188, 225],\n",
       "       [225,   0, 137],\n",
       "       [225, 225, 188],\n",
       "       [137,   0, 225],\n",
       "       [137, 188, 225],\n",
       "       [225, 188, 225],\n",
       "       [  0, 137, 225],\n",
       "       [188, 137, 137],\n",
       "       [188, 188, 188],\n",
       "       [188, 225, 137],\n",
       "       [137,   0,   0],\n",
       "       [188, 137, 225],\n",
       "       [137, 137, 137],\n",
       "       [  0,   0,   0]], dtype=uint8)"
      ]
     },
     "execution_count": 15,
     "metadata": {},
     "output_type": "execute_result"
    }
   ],
   "source": [
    " #从 taxonomy.json 文件中读取颜色映射\n",
    "with open('./taxonomy.json', 'rb') as f:\n",
    "    taxonomy_data = json.load(f)\n",
    "    all_srgb_colormap = taxonomy_data['srgb_colormap']\n",
    "\n",
    "# 根据 dms46 创建 srgb_colormap\n",
    "dms46 = [\n",
    "    1, 2, 3, 4, 5, 6, 7, 8, 9, 10, 11, 12, 13, 15, 16, 17, 18, 19, 20, 21, 23,\n",
    "    24, 26, 27, 29, 30, 32, 33, 34, 35, 36, 37, 38, 39, 41, 43, 44, 46, 47, 48, 49,\n",
    "    50, 51, 52, 53, 56,\n",
    "]\n",
    "srgb_colormap = [\n",
    "    all_srgb_colormap[i] for i in range(len(all_srgb_colormap)) if i in dms46\n",
    "]\n",
    "srgb_colormap.append([0, 0, 0])  # 添加黑色以表示无法检测的材料\n",
    "srgb_colormap = np.array(srgb_colormap, dtype=np.uint8)\n",
    "srgb_colormap"
   ]
  },
  {
   "cell_type": "code",
   "execution_count": 17,
   "id": "f779fd6d",
   "metadata": {},
   "outputs": [
    {
     "name": "stdout",
     "output_type": "stream",
     "text": [
      "(1, 667, 1000)\n"
     ]
    }
   ],
   "source": [
    "print(prediction[0].shape)"
   ]
  },
  {
   "cell_type": "code",
   "execution_count": 18,
   "id": "a97b4890",
   "metadata": {},
   "outputs": [
    {
     "ename": "IndexError",
     "evalue": "cannot do a non-empty take from an empty axes.",
     "output_type": "error",
     "traceback": [
      "\u001b[0;31m---------------------------------------------------------------------------\u001b[0m",
      "\u001b[0;31mIndexError\u001b[0m                                Traceback (most recent call last)",
      "\u001b[0;32m/var/folders/c1/53w1t4lx07x61mckxl8cl4nh0000gn/T/ipykernel_78952/676825232.py\u001b[0m in \u001b[0;36m<module>\u001b[0;34m\u001b[0m\n\u001b[1;32m     35\u001b[0m \u001b[0;31m# 应用颜色映射\u001b[0m\u001b[0;34m\u001b[0m\u001b[0;34m\u001b[0m\u001b[0m\n\u001b[1;32m     36\u001b[0m \u001b[0mprediction\u001b[0m \u001b[0;34m=\u001b[0m \u001b[0mnp\u001b[0m\u001b[0;34m.\u001b[0m\u001b[0margmax\u001b[0m\u001b[0;34m(\u001b[0m\u001b[0mprediction\u001b[0m\u001b[0;34m,\u001b[0m \u001b[0maxis\u001b[0m\u001b[0;34m=\u001b[0m\u001b[0;36m0\u001b[0m\u001b[0;34m)\u001b[0m\u001b[0;34m\u001b[0m\u001b[0;34m\u001b[0m\u001b[0m\n\u001b[0;32m---> 37\u001b[0;31m \u001b[0mpredicted_colored\u001b[0m \u001b[0;34m=\u001b[0m \u001b[0mnp\u001b[0m\u001b[0;34m.\u001b[0m\u001b[0mtake\u001b[0m\u001b[0;34m(\u001b[0m\u001b[0msrgb_colormap\u001b[0m\u001b[0;34m,\u001b[0m \u001b[0mprediction\u001b[0m\u001b[0;34m,\u001b[0m \u001b[0maxis\u001b[0m\u001b[0;34m=\u001b[0m\u001b[0;36m0\u001b[0m\u001b[0;34m)\u001b[0m\u001b[0;34m\u001b[0m\u001b[0;34m\u001b[0m\u001b[0m\n\u001b[0m\u001b[1;32m     38\u001b[0m \u001b[0;34m\u001b[0m\u001b[0m\n\u001b[1;32m     39\u001b[0m \u001b[0;31m# predicted_colored = np.take(srgb_colormap, prediction[0], axis=0)\u001b[0m\u001b[0;34m\u001b[0m\u001b[0;34m\u001b[0m\u001b[0m\n",
      "\u001b[0;32m<__array_function__ internals>\u001b[0m in \u001b[0;36mtake\u001b[0;34m(*args, **kwargs)\u001b[0m\n",
      "\u001b[0;32m~/anaconda3/lib/python3.9/site-packages/numpy/core/fromnumeric.py\u001b[0m in \u001b[0;36mtake\u001b[0;34m(a, indices, axis, out, mode)\u001b[0m\n\u001b[1;32m    188\u001b[0m            [5, 7]])\n\u001b[1;32m    189\u001b[0m     \"\"\"\n\u001b[0;32m--> 190\u001b[0;31m     \u001b[0;32mreturn\u001b[0m \u001b[0m_wrapfunc\u001b[0m\u001b[0;34m(\u001b[0m\u001b[0ma\u001b[0m\u001b[0;34m,\u001b[0m \u001b[0;34m'take'\u001b[0m\u001b[0;34m,\u001b[0m \u001b[0mindices\u001b[0m\u001b[0;34m,\u001b[0m \u001b[0maxis\u001b[0m\u001b[0;34m=\u001b[0m\u001b[0maxis\u001b[0m\u001b[0;34m,\u001b[0m \u001b[0mout\u001b[0m\u001b[0;34m=\u001b[0m\u001b[0mout\u001b[0m\u001b[0;34m,\u001b[0m \u001b[0mmode\u001b[0m\u001b[0;34m=\u001b[0m\u001b[0mmode\u001b[0m\u001b[0;34m)\u001b[0m\u001b[0;34m\u001b[0m\u001b[0;34m\u001b[0m\u001b[0m\n\u001b[0m\u001b[1;32m    191\u001b[0m \u001b[0;34m\u001b[0m\u001b[0m\n\u001b[1;32m    192\u001b[0m \u001b[0;34m\u001b[0m\u001b[0m\n",
      "\u001b[0;32m~/anaconda3/lib/python3.9/site-packages/numpy/core/fromnumeric.py\u001b[0m in \u001b[0;36m_wrapfunc\u001b[0;34m(obj, method, *args, **kwds)\u001b[0m\n\u001b[1;32m     52\u001b[0m     \u001b[0mbound\u001b[0m \u001b[0;34m=\u001b[0m \u001b[0mgetattr\u001b[0m\u001b[0;34m(\u001b[0m\u001b[0mobj\u001b[0m\u001b[0;34m,\u001b[0m \u001b[0mmethod\u001b[0m\u001b[0;34m,\u001b[0m \u001b[0;32mNone\u001b[0m\u001b[0;34m)\u001b[0m\u001b[0;34m\u001b[0m\u001b[0;34m\u001b[0m\u001b[0m\n\u001b[1;32m     53\u001b[0m     \u001b[0;32mif\u001b[0m \u001b[0mbound\u001b[0m \u001b[0;32mis\u001b[0m \u001b[0;32mNone\u001b[0m\u001b[0;34m:\u001b[0m\u001b[0;34m\u001b[0m\u001b[0;34m\u001b[0m\u001b[0m\n\u001b[0;32m---> 54\u001b[0;31m         \u001b[0;32mreturn\u001b[0m \u001b[0m_wrapit\u001b[0m\u001b[0;34m(\u001b[0m\u001b[0mobj\u001b[0m\u001b[0;34m,\u001b[0m \u001b[0mmethod\u001b[0m\u001b[0;34m,\u001b[0m \u001b[0;34m*\u001b[0m\u001b[0margs\u001b[0m\u001b[0;34m,\u001b[0m \u001b[0;34m**\u001b[0m\u001b[0mkwds\u001b[0m\u001b[0;34m)\u001b[0m\u001b[0;34m\u001b[0m\u001b[0;34m\u001b[0m\u001b[0m\n\u001b[0m\u001b[1;32m     55\u001b[0m \u001b[0;34m\u001b[0m\u001b[0m\n\u001b[1;32m     56\u001b[0m     \u001b[0;32mtry\u001b[0m\u001b[0;34m:\u001b[0m\u001b[0;34m\u001b[0m\u001b[0;34m\u001b[0m\u001b[0m\n",
      "\u001b[0;32m~/anaconda3/lib/python3.9/site-packages/numpy/core/fromnumeric.py\u001b[0m in \u001b[0;36m_wrapit\u001b[0;34m(obj, method, *args, **kwds)\u001b[0m\n\u001b[1;32m     41\u001b[0m     \u001b[0;32mexcept\u001b[0m \u001b[0mAttributeError\u001b[0m\u001b[0;34m:\u001b[0m\u001b[0;34m\u001b[0m\u001b[0;34m\u001b[0m\u001b[0m\n\u001b[1;32m     42\u001b[0m         \u001b[0mwrap\u001b[0m \u001b[0;34m=\u001b[0m \u001b[0;32mNone\u001b[0m\u001b[0;34m\u001b[0m\u001b[0;34m\u001b[0m\u001b[0m\n\u001b[0;32m---> 43\u001b[0;31m     \u001b[0mresult\u001b[0m \u001b[0;34m=\u001b[0m \u001b[0mgetattr\u001b[0m\u001b[0;34m(\u001b[0m\u001b[0masarray\u001b[0m\u001b[0;34m(\u001b[0m\u001b[0mobj\u001b[0m\u001b[0;34m)\u001b[0m\u001b[0;34m,\u001b[0m \u001b[0mmethod\u001b[0m\u001b[0;34m)\u001b[0m\u001b[0;34m(\u001b[0m\u001b[0;34m*\u001b[0m\u001b[0margs\u001b[0m\u001b[0;34m,\u001b[0m \u001b[0;34m**\u001b[0m\u001b[0mkwds\u001b[0m\u001b[0;34m)\u001b[0m\u001b[0;34m\u001b[0m\u001b[0;34m\u001b[0m\u001b[0m\n\u001b[0m\u001b[1;32m     44\u001b[0m     \u001b[0;32mif\u001b[0m \u001b[0mwrap\u001b[0m\u001b[0;34m:\u001b[0m\u001b[0;34m\u001b[0m\u001b[0;34m\u001b[0m\u001b[0m\n\u001b[1;32m     45\u001b[0m         \u001b[0;32mif\u001b[0m \u001b[0;32mnot\u001b[0m \u001b[0misinstance\u001b[0m\u001b[0;34m(\u001b[0m\u001b[0mresult\u001b[0m\u001b[0;34m,\u001b[0m \u001b[0mmu\u001b[0m\u001b[0;34m.\u001b[0m\u001b[0mndarray\u001b[0m\u001b[0;34m)\u001b[0m\u001b[0;34m:\u001b[0m\u001b[0;34m\u001b[0m\u001b[0;34m\u001b[0m\u001b[0m\n",
      "\u001b[0;31mIndexError\u001b[0m: cannot do a non-empty take from an empty axes."
     ]
    }
   ],
   "source": [
    "# 设置预训练模型文件的路径\n",
    "model_path = \"./DMS46_v1.pt\"\n",
    "\n",
    "# 加载预训练模型\n",
    "model = torch.jit.load(model_path)\n",
    "model.eval()\n",
    "\n",
    "# 用于对标签进行可视化的颜色映射\n",
    "srgb_colormap = [\n",
    "    # 在这里添加对应于 dms46 的 sRGB 颜色值\n",
    "]\n",
    "\n",
    "# 输入图像路径\n",
    "input_image_path = \"./input_image.jpg\"\n",
    "\n",
    "# 读取输入图像\n",
    "input_image = cv2.imread(input_image_path)\n",
    "input_image = cv2.cvtColor(input_image, cv2.COLOR_BGR2RGB)\n",
    "\n",
    "# 预处理图像\n",
    "mean = [0.485, 0.456, 0.406]\n",
    "std = [0.229, 0.224, 0.225]\n",
    "value_scale = 255\n",
    "mean = [item * value_scale for item in mean]\n",
    "std = [item * value_scale for item in std]\n",
    "\n",
    "input_tensor = torch.from_numpy(input_image.transpose((2, 0, 1))).float()\n",
    "input_tensor = TTR.Normalize(mean, std)(input_tensor)\n",
    "input_tensor = input_tensor.unsqueeze(0)\n",
    "\n",
    "# 进行预测\n",
    "with torch.no_grad():\n",
    "    prediction = model(input_tensor)[0].data.cpu().numpy()\n",
    "\n",
    "# 应用颜色映射\n",
    "# 将预测矩阵转换为二维数组\n",
    "prediction = np.argmax(prediction, axis=0)\n",
    "\n",
    "# 定义一个将类别索引转换为颜色的函数\n",
    "def index_to_color(index):\n",
    "    return srgb_colormap[index]\n",
    "\n",
    "# 使用 np.vectorize 将函数应用到整个预测矩阵上\n",
    "index_to_color_vec = np.vectorize(index_to_color, signature='()->(n)')\n",
    "predicted_colored = index_to_color_vec(prediction)\n",
    "\n",
    "\n",
    "# predicted_colored = np.take(srgb_colormap, prediction[0], axis=0)\n",
    "\n",
    "# 保存预测结果\n",
    "output_image_path = \"./predicted_image.png\"\n",
    "cv2.imwrite(output_image_path, predicted_colored[..., ::-1])\n",
    "\n",
    "# 在这里添加将分析结果保存到 CSV 文件的代码\n"
   ]
  },
  {
   "cell_type": "code",
   "execution_count": null,
   "id": "b9f57549",
   "metadata": {},
   "outputs": [],
   "source": []
  }
 ],
 "metadata": {
  "kernelspec": {
   "display_name": "Python 3 (ipykernel)",
   "language": "python",
   "name": "python3"
  },
  "language_info": {
   "codemirror_mode": {
    "name": "ipython",
    "version": 3
   },
   "file_extension": ".py",
   "mimetype": "text/x-python",
   "name": "python",
   "nbconvert_exporter": "python",
   "pygments_lexer": "ipython3",
   "version": "3.9.13"
  }
 },
 "nbformat": 4,
 "nbformat_minor": 5
}
