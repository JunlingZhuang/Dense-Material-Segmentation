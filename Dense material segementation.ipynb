{
 "cells": [
  {
   "cell_type": "code",
   "execution_count": 4,
   "id": "89545683",
   "metadata": {},
   "outputs": [],
   "source": [
    "import argparse\n",
    "import json\n",
    "import cv2\n",
    "import os\n",
    "import numpy as np\n",
    "import torch\n",
    "import torchvision.transforms as TTR\n",
    "from torch.utils.data import DataLoader, Dataset"
   ]
  },
  {
   "cell_type": "code",
   "execution_count": 28,
   "id": "1957d8f1",
   "metadata": {},
   "outputs": [
    {
     "data": {
      "text/plain": [
       "array([[  0,   0,   0],\n",
       "       [188, 188, 137],\n",
       "       [  0, 188,   0],\n",
       "       [188, 188,   0],\n",
       "       [  0,   0, 188],\n",
       "       [188,   0, 188],\n",
       "       [  0, 188, 188],\n",
       "       [241, 241, 241],\n",
       "       [  0, 137, 137],\n",
       "       [225,   0,   0],\n",
       "       [137, 188,   0],\n",
       "       [225, 188,   0],\n",
       "       [137,   0, 188],\n",
       "       [  0, 225, 137],\n",
       "       [225, 188, 188],\n",
       "       [  0, 137,   0],\n",
       "       [188, 137,   0],\n",
       "       [137, 225, 188],\n",
       "       [188, 137, 188],\n",
       "       [  0, 137, 188],\n",
       "       [  0, 225, 188],\n",
       "       [188, 225, 188],\n",
       "       [225, 137,   0],\n",
       "       [137, 225,   0],\n",
       "       [137, 137, 188],\n",
       "       [225, 137, 188],\n",
       "       [188,   0, 225],\n",
       "       [  0,   0, 137],\n",
       "       [188,   0,   0],\n",
       "       [  0, 188, 137],\n",
       "       [188,   0, 137],\n",
       "       [  0,   0, 225],\n",
       "       [225, 188, 137],\n",
       "       [  0, 188, 225],\n",
       "       [137,   0, 137],\n",
       "       [137, 188, 137],\n",
       "       [225, 225, 188],\n",
       "       [225,   0, 225],\n",
       "       [137, 188, 225],\n",
       "       [225, 188, 225],\n",
       "       [  0, 137, 225],\n",
       "       [188, 137, 137],\n",
       "       [188, 188, 188],\n",
       "       [188, 225, 137],\n",
       "       [137,   0,   0],\n",
       "       [188, 225, 225],\n",
       "       [  0,   0,   0]], dtype=uint8)"
      ]
     },
     "execution_count": 28,
     "metadata": {},
     "output_type": "execute_result"
    }
   ],
   "source": [
    " #从 taxonomy.json 文件中读取颜色映射\n",
    "with open('./taxonomy.json', 'rb') as f:\n",
    "    taxonomy_data = json.load(f)\n",
    "    all_srgb_colormap = taxonomy_data['srgb_colormap']\n",
    "\n",
    "# 根据 dms46 创建 srgb_colormap\n",
    "dms46 = [\n",
    "    1, 2, 3, 4, 5, 6, 7, 8, 9, 10, 11, 12, 13, 15, 16, 17, 18, 19, 20, 21, 23,\n",
    "    24, 26, 27, 29, 30, 32, 33, 34, 35, 36, 37, 38, 39, 41, 43, 44, 46, 47, 48, 49,\n",
    "    50, 51, 52, 53, 56,\n",
    "]\n",
    "srgb_colormap = [\n",
    "    all_srgb_colormap[i-1] for i in dms46\n",
    "]\n",
    "srgb_colormap.append([0, 0, 0])  # 添加黑色以表示无法检测的材料\n",
    "srgb_colormap = np.array(srgb_colormap, dtype=np.uint8)\n",
    "srgb_colormap"
   ]
  },
  {
   "cell_type": "code",
   "execution_count": 27,
   "id": "7b990fd3",
   "metadata": {},
   "outputs": [
    {
     "name": "stdout",
     "output_type": "stream",
     "text": [
      "(667, 1000)\n"
     ]
    }
   ],
   "source": [
    "print(prediction[0].shape)"
   ]
  },
  {
   "cell_type": "code",
   "execution_count": 33,
   "id": "9363ca12",
   "metadata": {},
   "outputs": [
    {
     "ename": "error",
     "evalue": "OpenCV(4.7.0) /Users/runner/work/opencv-python/opencv-python/opencv/modules/imgproc/src/resize.cpp:4065: error: (-215:Assertion failed) inv_scale_x > 0 in function 'resize'\n",
     "output_type": "error",
     "traceback": [
      "\u001b[0;31m---------------------------------------------------------------------------\u001b[0m",
      "\u001b[0;31merror\u001b[0m                                     Traceback (most recent call last)",
      "\u001b[0;32m/var/folders/c1/53w1t4lx07x61mckxl8cl4nh0000gn/T/ipykernel_78952/1650706606.py\u001b[0m in \u001b[0;36m<module>\u001b[0;34m\u001b[0m\n\u001b[1;32m     57\u001b[0m \u001b[0;34m\u001b[0m\u001b[0m\n\u001b[1;32m     58\u001b[0m \u001b[0;31m# 缩放图像\u001b[0m\u001b[0;34m\u001b[0m\u001b[0;34m\u001b[0m\u001b[0m\n\u001b[0;32m---> 59\u001b[0;31m \u001b[0mresized_predicted_colored\u001b[0m \u001b[0;34m=\u001b[0m \u001b[0mcv2\u001b[0m\u001b[0;34m.\u001b[0m\u001b[0mresize\u001b[0m\u001b[0;34m(\u001b[0m\u001b[0mpredicted_colored_uint8\u001b[0m\u001b[0;34m,\u001b[0m \u001b[0mdim\u001b[0m\u001b[0;34m,\u001b[0m \u001b[0minterpolation\u001b[0m\u001b[0;34m=\u001b[0m\u001b[0mcv2\u001b[0m\u001b[0;34m.\u001b[0m\u001b[0mINTER_AREA\u001b[0m\u001b[0;34m)\u001b[0m\u001b[0;34m\u001b[0m\u001b[0;34m\u001b[0m\u001b[0m\n\u001b[0m\u001b[1;32m     60\u001b[0m \u001b[0;34m\u001b[0m\u001b[0m\n\u001b[1;32m     61\u001b[0m \u001b[0;31m# 重新定义预测结果数组的形状，使其与缩放后的输入图像的形状相匹配\u001b[0m\u001b[0;34m\u001b[0m\u001b[0;34m\u001b[0m\u001b[0m\n",
      "\u001b[0;31merror\u001b[0m: OpenCV(4.7.0) /Users/runner/work/opencv-python/opencv-python/opencv/modules/imgproc/src/resize.cpp:4065: error: (-215:Assertion failed) inv_scale_x > 0 in function 'resize'\n"
     ]
    }
   ],
   "source": [
    "# 设置预训练模型文件的路径\n",
    "model_path = \"./DMS46_v1.pt\"\n",
    "\n",
    "# 加载预训练模型\n",
    "model = torch.jit.load(model_path)\n",
    "model.eval()\n",
    "\n",
    "# 输入图像路径\n",
    "input_image_path = \"./input_image.jpg\"\n",
    "\n",
    "# 读取输入图像\n",
    "input_image = cv2.imread(input_image_path)\n",
    "input_image = cv2.cvtColor(input_image, cv2.COLOR_BGR2RGB)\n",
    "\n",
    "# 预处理图像\n",
    "mean = [0.485, 0.456, 0.406]\n",
    "std = [0.229, 0.224, 0.225]\n",
    "value_scale = 255\n",
    "mean = [item * value_scale for item in mean]\n",
    "std = [item * value_scale for item in std]\n",
    "\n",
    "input_tensor = torch.from_numpy(input_image.transpose((2, 0, 1))).float()\n",
    "input_tensor = TTR.Normalize(mean, std)(input_tensor)\n",
    "input_tensor = input_tensor.unsqueeze(0)\n",
    "\n",
    "# 进行预测\n",
    "with torch.no_grad():\n",
    "    prediction = model(input_tensor)[0].data.cpu().numpy()\n",
    "\n",
    "# 应用颜色映射\n",
    "# 将预测矩阵转换为二维数组\n",
    "prediction = np.argmax(prediction, axis=0)\n",
    "\n",
    "# 定义一个将类别索引转换为颜色的函数\n",
    "def index_to_color(index):\n",
    "    return srgb_colormap[index]\n",
    "\n",
    "# 使用 np.vectorize 将函数应用到整个预测矩阵上\n",
    "index_to_color_vec = np.vectorize(index_to_color, signature='()->(n)')\n",
    "predicted_colored = index_to_color_vec(prediction)\n",
    "\n",
    "\n",
    "# predicted_colored = np.take(srgb_colormap, prediction[0], axis=0)\n",
    "\n",
    "# 保存预测结果\n",
    "# output_image_path = \"./predicted_image.png\"\n",
    "# cv2.imwrite(output_image_path, predicted_colored[..., ::-1])\n",
    "\n",
    "# 设置缩放比例，例如 0.5 表示将宽度和高度缩小一半\n",
    "scale_factor = 0.5\n",
    "width = int(predicted_colored.shape[1] * scale_factor)\n",
    "height = int(predicted_colored.shape[0] * scale_factor)\n",
    "dim = (width, height)\n",
    "\n",
    "# 将预测结果转换为 np.uint8 类型\n",
    "predicted_colored_uint8 = predicted_colored.astype(np.uint8)\n",
    "\n",
    "# 缩放图像\n",
    "resized_predicted_colored = cv2.resize(predicted_colored_uint8, dim, interpolation=cv2.INTER_AREA)\n",
    "\n",
    "# 重新定义预测结果数组的形状，使其与缩放后的输入图像的形状相匹配\n",
    "resized_predicted_colored = resized_predicted_colored.reshape(height, width, 3)\n",
    "\n",
    "# 保存预测结果\n",
    "output_image_path = \"./predicted_image.png\"\n",
    "cv2.imwrite(output_image_path, resized_predicted_colored[..., ::-1])\n",
    "\n",
    "\n",
    "\n",
    "\n",
    "\n",
    "# 在这里添加将分析结果保存到 CSV 文件的代码\n"
   ]
  },
  {
   "cell_type": "code",
   "execution_count": 26,
   "id": "619559fc",
   "metadata": {},
   "outputs": [
    {
     "name": "stdout",
     "output_type": "stream",
     "text": [
      "0\n"
     ]
    }
   ],
   "source": [
    "print(np.max(prediction))\n"
   ]
  },
  {
   "cell_type": "code",
   "execution_count": null,
   "id": "f58b109b",
   "metadata": {},
   "outputs": [],
   "source": []
  }
 ],
 "metadata": {
  "kernelspec": {
   "display_name": "Python 3 (ipykernel)",
   "language": "python",
   "name": "python3"
  },
  "language_info": {
   "codemirror_mode": {
    "name": "ipython",
    "version": 3
   },
   "file_extension": ".py",
   "mimetype": "text/x-python",
   "name": "python",
   "nbconvert_exporter": "python",
   "pygments_lexer": "ipython3",
   "version": "3.9.13"
  }
 },
 "nbformat": 4,
 "nbformat_minor": 5
}
